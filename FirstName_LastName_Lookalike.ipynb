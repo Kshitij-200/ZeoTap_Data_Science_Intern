{
 "cells": [
  {
   "cell_type": "code",
   "execution_count": null,
   "id": "7b9a18cd",
   "metadata": {},
   "outputs": [],
   "source": [
    "# Task 2: Lookalike Mode\n",
    "# Creating a pivot table for customer-product interactions\n",
    "customer_product_matrix = merged_data.pivot_table(index='CustomerID', columns='ProductName', values='Quantity', aggfunc='sum', fill_value=0)"
   ]
  },
  {
   "cell_type": "code",
   "execution_count": null,
   "id": "7eb08da8",
   "metadata": {},
   "outputs": [],
   "source": [
    "# Calculate cosine similarity\n",
    "similarity_matrix = cosine_similarity(customer_product_matrix)\n",
    "similarity_df = pd.DataFrame(similarity_matrix, index=customer_product_matrix.index, columns=customer_product_matrix.index)"
   ]
  },
  {
   "cell_type": "code",
   "execution_count": null,
   "id": "87ae9772",
   "metadata": {},
   "outputs": [],
   "source": [
    "# Convert the lookalike_data dictionary to a DataFrame\n",
    "lookalike_records = []\n",
    "\n",
    "for customer_id, similar_customers in lookalike_data.items():\n",
    "    # Extract the top 3 lookalikes and their scores\n",
    "    lookalikes = list(similar_customers.keys())[:3]\n",
    "    scores = list(similar_customers.values())[:3]\n",
    "    \n",
    "    # Ensure we have exactly 3 lookalikes and 3 scores (fill missing values with NaN)\n",
    "    while len(lookalikes) < 3:\n",
    "        lookalikes.append(np.nan)\n",
    "        scores.append(np.nan)\n",
    "    \n",
    "    # Create a record for this customer\n",
    "    record = [customer_id] + [item for pair in zip(lookalikes, scores) for item in pair]\n",
    "    lookalike_records.append(record)\n"
   ]
  },
  {
   "cell_type": "code",
   "execution_count": null,
   "id": "9ea38ae3",
   "metadata": {},
   "outputs": [],
   "source": [
    "# Convert the list of records to a DataFrame\n",
    "lookalike_df = pd.DataFrame(\n",
    "    lookalike_records,\n",
    "    columns=['CustomerID', 'Lookalike1', 'Score1', 'Lookalike2', 'Score2', 'Lookalike3', 'Score3']\n",
    ")\n"
   ]
  },
  {
   "cell_type": "code",
   "execution_count": null,
   "id": "8635db84",
   "metadata": {},
   "outputs": [],
   "source": [
    "# Save the DataFrame to a CSV file\n",
    "lookalike_df.to_csv(\"FirstName_LastName_Lookalike.csv\", index=False)\n",
    "print(\"Lookalike results saved to 'FirstName_LastName_Lookalike.csv'.\")"
   ]
  },
  {
   "cell_type": "code",
   "execution_count": null,
   "id": "aa79e3e7",
   "metadata": {},
   "outputs": [],
   "source": []
  },
  {
   "cell_type": "code",
   "execution_count": null,
   "id": "72d27b05",
   "metadata": {},
   "outputs": [],
   "source": []
  },
  {
   "cell_type": "code",
   "execution_count": null,
   "id": "7cac4537",
   "metadata": {},
   "outputs": [],
   "source": []
  },
  {
   "cell_type": "code",
   "execution_count": null,
   "id": "b12d0470",
   "metadata": {},
   "outputs": [],
   "source": []
  }
 ],
 "metadata": {
  "kernelspec": {
   "display_name": "Python 3 (ipykernel)",
   "language": "python",
   "name": "python3"
  },
  "language_info": {
   "codemirror_mode": {
    "name": "ipython",
    "version": 3
   },
   "file_extension": ".py",
   "mimetype": "text/x-python",
   "name": "python",
   "nbconvert_exporter": "python",
   "pygments_lexer": "ipython3",
   "version": "3.9.13"
  }
 },
 "nbformat": 4,
 "nbformat_minor": 5
}
